{
  "nbformat": 4,
  "nbformat_minor": 0,
  "metadata": {
    "colab": {
      "name": "SapiensQA.ipynb",
      "provenance": [],
      "collapsed_sections": [],
      "mount_file_id": "1ksTW27N2-aQMYgtXOI_bKd_9eWeiyDwS",
      "authorship_tag": "ABX9TyOsKaBocTyVAD4Ysv7AXzsy",
      "include_colab_link": true
    },
    "kernelspec": {
      "name": "python3",
      "display_name": "Python 3"
    },
    "language_info": {
      "name": "python"
    },
    "accelerator": "GPU",
    "widgets": {
      "application/vnd.jupyter.widget-state+json": {
        "f0266e4d6f964f1e8e9a328956873315": {
          "model_module": "@jupyter-widgets/controls",
          "model_name": "HBoxModel",
          "state": {
            "_view_name": "HBoxView",
            "_dom_classes": [],
            "_model_name": "HBoxModel",
            "_view_module": "@jupyter-widgets/controls",
            "_model_module_version": "1.5.0",
            "_view_count": null,
            "_view_module_version": "1.5.0",
            "box_style": "",
            "layout": "IPY_MODEL_5c8faa4f3b134231920abc10105daf21",
            "_model_module": "@jupyter-widgets/controls",
            "children": [
              "IPY_MODEL_7ae4954a90c444e59b17305241cfa8ec",
              "IPY_MODEL_c97a06230ba34f2991ce8115cf3a8376"
            ]
          }
        },
        "5c8faa4f3b134231920abc10105daf21": {
          "model_module": "@jupyter-widgets/base",
          "model_name": "LayoutModel",
          "state": {
            "_view_name": "LayoutView",
            "grid_template_rows": null,
            "right": null,
            "justify_content": null,
            "_view_module": "@jupyter-widgets/base",
            "overflow": null,
            "_model_module_version": "1.2.0",
            "_view_count": null,
            "flex_flow": null,
            "width": null,
            "min_width": null,
            "border": null,
            "align_items": null,
            "bottom": null,
            "_model_module": "@jupyter-widgets/base",
            "top": null,
            "grid_column": null,
            "overflow_y": null,
            "overflow_x": null,
            "grid_auto_flow": null,
            "grid_area": null,
            "grid_template_columns": null,
            "flex": null,
            "_model_name": "LayoutModel",
            "justify_items": null,
            "grid_row": null,
            "max_height": null,
            "align_content": null,
            "visibility": null,
            "align_self": null,
            "height": null,
            "min_height": null,
            "padding": null,
            "grid_auto_rows": null,
            "grid_gap": null,
            "max_width": null,
            "order": null,
            "_view_module_version": "1.2.0",
            "grid_template_areas": null,
            "object_position": null,
            "object_fit": null,
            "grid_auto_columns": null,
            "margin": null,
            "display": null,
            "left": null
          }
        },
        "7ae4954a90c444e59b17305241cfa8ec": {
          "model_module": "@jupyter-widgets/controls",
          "model_name": "IntProgressModel",
          "state": {
            "_view_name": "ProgressView",
            "style": "IPY_MODEL_698f2e98d77b487688e51ee01d5dda1c",
            "_dom_classes": [],
            "description": "Epoch",
            "_model_name": "IntProgressModel",
            "bar_style": "success",
            "max": 3,
            "_view_module": "@jupyter-widgets/controls",
            "_model_module_version": "1.5.0",
            "value": 3,
            "_view_count": null,
            "_view_module_version": "1.5.0",
            "orientation": "horizontal",
            "min": 0,
            "description_tooltip": null,
            "_model_module": "@jupyter-widgets/controls",
            "layout": "IPY_MODEL_417a285c2f424ce686a05d0759bf1643"
          }
        },
        "c97a06230ba34f2991ce8115cf3a8376": {
          "model_module": "@jupyter-widgets/controls",
          "model_name": "HTMLModel",
          "state": {
            "_view_name": "HTMLView",
            "style": "IPY_MODEL_aa12173e61824755ad31b792844ca81e",
            "_dom_classes": [],
            "description": "",
            "_model_name": "HTMLModel",
            "placeholder": "​",
            "_view_module": "@jupyter-widgets/controls",
            "_model_module_version": "1.5.0",
            "value": "100% 3/3 [01:14&lt;00:00, 25.11s/it]",
            "_view_count": null,
            "_view_module_version": "1.5.0",
            "description_tooltip": null,
            "_model_module": "@jupyter-widgets/controls",
            "layout": "IPY_MODEL_14cdbb4d77b54103a574cad6212b6df9"
          }
        },
        "698f2e98d77b487688e51ee01d5dda1c": {
          "model_module": "@jupyter-widgets/controls",
          "model_name": "ProgressStyleModel",
          "state": {
            "_view_name": "StyleView",
            "_model_name": "ProgressStyleModel",
            "description_width": "initial",
            "_view_module": "@jupyter-widgets/base",
            "_model_module_version": "1.5.0",
            "_view_count": null,
            "_view_module_version": "1.2.0",
            "bar_color": null,
            "_model_module": "@jupyter-widgets/controls"
          }
        },
        "417a285c2f424ce686a05d0759bf1643": {
          "model_module": "@jupyter-widgets/base",
          "model_name": "LayoutModel",
          "state": {
            "_view_name": "LayoutView",
            "grid_template_rows": null,
            "right": null,
            "justify_content": null,
            "_view_module": "@jupyter-widgets/base",
            "overflow": null,
            "_model_module_version": "1.2.0",
            "_view_count": null,
            "flex_flow": null,
            "width": null,
            "min_width": null,
            "border": null,
            "align_items": null,
            "bottom": null,
            "_model_module": "@jupyter-widgets/base",
            "top": null,
            "grid_column": null,
            "overflow_y": null,
            "overflow_x": null,
            "grid_auto_flow": null,
            "grid_area": null,
            "grid_template_columns": null,
            "flex": null,
            "_model_name": "LayoutModel",
            "justify_items": null,
            "grid_row": null,
            "max_height": null,
            "align_content": null,
            "visibility": null,
            "align_self": null,
            "height": null,
            "min_height": null,
            "padding": null,
            "grid_auto_rows": null,
            "grid_gap": null,
            "max_width": null,
            "order": null,
            "_view_module_version": "1.2.0",
            "grid_template_areas": null,
            "object_position": null,
            "object_fit": null,
            "grid_auto_columns": null,
            "margin": null,
            "display": null,
            "left": null
          }
        },
        "aa12173e61824755ad31b792844ca81e": {
          "model_module": "@jupyter-widgets/controls",
          "model_name": "DescriptionStyleModel",
          "state": {
            "_view_name": "StyleView",
            "_model_name": "DescriptionStyleModel",
            "description_width": "",
            "_view_module": "@jupyter-widgets/base",
            "_model_module_version": "1.5.0",
            "_view_count": null,
            "_view_module_version": "1.2.0",
            "_model_module": "@jupyter-widgets/controls"
          }
        },
        "14cdbb4d77b54103a574cad6212b6df9": {
          "model_module": "@jupyter-widgets/base",
          "model_name": "LayoutModel",
          "state": {
            "_view_name": "LayoutView",
            "grid_template_rows": null,
            "right": null,
            "justify_content": null,
            "_view_module": "@jupyter-widgets/base",
            "overflow": null,
            "_model_module_version": "1.2.0",
            "_view_count": null,
            "flex_flow": null,
            "width": null,
            "min_width": null,
            "border": null,
            "align_items": null,
            "bottom": null,
            "_model_module": "@jupyter-widgets/base",
            "top": null,
            "grid_column": null,
            "overflow_y": null,
            "overflow_x": null,
            "grid_auto_flow": null,
            "grid_area": null,
            "grid_template_columns": null,
            "flex": null,
            "_model_name": "LayoutModel",
            "justify_items": null,
            "grid_row": null,
            "max_height": null,
            "align_content": null,
            "visibility": null,
            "align_self": null,
            "height": null,
            "min_height": null,
            "padding": null,
            "grid_auto_rows": null,
            "grid_gap": null,
            "max_width": null,
            "order": null,
            "_view_module_version": "1.2.0",
            "grid_template_areas": null,
            "object_position": null,
            "object_fit": null,
            "grid_auto_columns": null,
            "margin": null,
            "display": null,
            "left": null
          }
        },
        "abb00af584b54fbcb7acb0497a281709": {
          "model_module": "@jupyter-widgets/controls",
          "model_name": "HBoxModel",
          "state": {
            "_view_name": "HBoxView",
            "_dom_classes": [],
            "_model_name": "HBoxModel",
            "_view_module": "@jupyter-widgets/controls",
            "_model_module_version": "1.5.0",
            "_view_count": null,
            "_view_module_version": "1.5.0",
            "box_style": "",
            "layout": "IPY_MODEL_9322ebeff7ce450d9038b3734b5ac96e",
            "_model_module": "@jupyter-widgets/controls",
            "children": [
              "IPY_MODEL_0e63630889a945f5a55a9026ac9772e8",
              "IPY_MODEL_5aa87743c2944da69db41772cd18a4ea"
            ]
          }
        },
        "9322ebeff7ce450d9038b3734b5ac96e": {
          "model_module": "@jupyter-widgets/base",
          "model_name": "LayoutModel",
          "state": {
            "_view_name": "LayoutView",
            "grid_template_rows": null,
            "right": null,
            "justify_content": null,
            "_view_module": "@jupyter-widgets/base",
            "overflow": null,
            "_model_module_version": "1.2.0",
            "_view_count": null,
            "flex_flow": null,
            "width": null,
            "min_width": null,
            "border": null,
            "align_items": null,
            "bottom": null,
            "_model_module": "@jupyter-widgets/base",
            "top": null,
            "grid_column": null,
            "overflow_y": null,
            "overflow_x": null,
            "grid_auto_flow": null,
            "grid_area": null,
            "grid_template_columns": null,
            "flex": null,
            "_model_name": "LayoutModel",
            "justify_items": null,
            "grid_row": null,
            "max_height": null,
            "align_content": null,
            "visibility": null,
            "align_self": null,
            "height": null,
            "min_height": null,
            "padding": null,
            "grid_auto_rows": null,
            "grid_gap": null,
            "max_width": null,
            "order": null,
            "_view_module_version": "1.2.0",
            "grid_template_areas": null,
            "object_position": null,
            "object_fit": null,
            "grid_auto_columns": null,
            "margin": null,
            "display": null,
            "left": null
          }
        },
        "0e63630889a945f5a55a9026ac9772e8": {
          "model_module": "@jupyter-widgets/controls",
          "model_name": "IntProgressModel",
          "state": {
            "_view_name": "ProgressView",
            "style": "IPY_MODEL_daaa188bb0b34a27ab8448368641d7aa",
            "_dom_classes": [],
            "description": "Iteration",
            "_model_name": "IntProgressModel",
            "bar_style": "success",
            "max": 71,
            "_view_module": "@jupyter-widgets/controls",
            "_model_module_version": "1.5.0",
            "value": 71,
            "_view_count": null,
            "_view_module_version": "1.5.0",
            "orientation": "horizontal",
            "min": 0,
            "description_tooltip": null,
            "_model_module": "@jupyter-widgets/controls",
            "layout": "IPY_MODEL_731a08f0d84d43498878628f8c8c913e"
          }
        },
        "5aa87743c2944da69db41772cd18a4ea": {
          "model_module": "@jupyter-widgets/controls",
          "model_name": "HTMLModel",
          "state": {
            "_view_name": "HTMLView",
            "style": "IPY_MODEL_ca025bdb0ea641389c216592ab9a6336",
            "_dom_classes": [],
            "description": "",
            "_model_name": "HTMLModel",
            "placeholder": "​",
            "_view_module": "@jupyter-widgets/controls",
            "_model_module_version": "1.5.0",
            "value": "100% 71/71 [00:25&lt;00:00,  2.89it/s]",
            "_view_count": null,
            "_view_module_version": "1.5.0",
            "description_tooltip": null,
            "_model_module": "@jupyter-widgets/controls",
            "layout": "IPY_MODEL_c650ca601e73407191c3448e7a705c0c"
          }
        },
        "daaa188bb0b34a27ab8448368641d7aa": {
          "model_module": "@jupyter-widgets/controls",
          "model_name": "ProgressStyleModel",
          "state": {
            "_view_name": "StyleView",
            "_model_name": "ProgressStyleModel",
            "description_width": "initial",
            "_view_module": "@jupyter-widgets/base",
            "_model_module_version": "1.5.0",
            "_view_count": null,
            "_view_module_version": "1.2.0",
            "bar_color": null,
            "_model_module": "@jupyter-widgets/controls"
          }
        },
        "731a08f0d84d43498878628f8c8c913e": {
          "model_module": "@jupyter-widgets/base",
          "model_name": "LayoutModel",
          "state": {
            "_view_name": "LayoutView",
            "grid_template_rows": null,
            "right": null,
            "justify_content": null,
            "_view_module": "@jupyter-widgets/base",
            "overflow": null,
            "_model_module_version": "1.2.0",
            "_view_count": null,
            "flex_flow": null,
            "width": null,
            "min_width": null,
            "border": null,
            "align_items": null,
            "bottom": null,
            "_model_module": "@jupyter-widgets/base",
            "top": null,
            "grid_column": null,
            "overflow_y": null,
            "overflow_x": null,
            "grid_auto_flow": null,
            "grid_area": null,
            "grid_template_columns": null,
            "flex": null,
            "_model_name": "LayoutModel",
            "justify_items": null,
            "grid_row": null,
            "max_height": null,
            "align_content": null,
            "visibility": null,
            "align_self": null,
            "height": null,
            "min_height": null,
            "padding": null,
            "grid_auto_rows": null,
            "grid_gap": null,
            "max_width": null,
            "order": null,
            "_view_module_version": "1.2.0",
            "grid_template_areas": null,
            "object_position": null,
            "object_fit": null,
            "grid_auto_columns": null,
            "margin": null,
            "display": null,
            "left": null
          }
        },
        "ca025bdb0ea641389c216592ab9a6336": {
          "model_module": "@jupyter-widgets/controls",
          "model_name": "DescriptionStyleModel",
          "state": {
            "_view_name": "StyleView",
            "_model_name": "DescriptionStyleModel",
            "description_width": "",
            "_view_module": "@jupyter-widgets/base",
            "_model_module_version": "1.5.0",
            "_view_count": null,
            "_view_module_version": "1.2.0",
            "_model_module": "@jupyter-widgets/controls"
          }
        },
        "c650ca601e73407191c3448e7a705c0c": {
          "model_module": "@jupyter-widgets/base",
          "model_name": "LayoutModel",
          "state": {
            "_view_name": "LayoutView",
            "grid_template_rows": null,
            "right": null,
            "justify_content": null,
            "_view_module": "@jupyter-widgets/base",
            "overflow": null,
            "_model_module_version": "1.2.0",
            "_view_count": null,
            "flex_flow": null,
            "width": null,
            "min_width": null,
            "border": null,
            "align_items": null,
            "bottom": null,
            "_model_module": "@jupyter-widgets/base",
            "top": null,
            "grid_column": null,
            "overflow_y": null,
            "overflow_x": null,
            "grid_auto_flow": null,
            "grid_area": null,
            "grid_template_columns": null,
            "flex": null,
            "_model_name": "LayoutModel",
            "justify_items": null,
            "grid_row": null,
            "max_height": null,
            "align_content": null,
            "visibility": null,
            "align_self": null,
            "height": null,
            "min_height": null,
            "padding": null,
            "grid_auto_rows": null,
            "grid_gap": null,
            "max_width": null,
            "order": null,
            "_view_module_version": "1.2.0",
            "grid_template_areas": null,
            "object_position": null,
            "object_fit": null,
            "grid_auto_columns": null,
            "margin": null,
            "display": null,
            "left": null
          }
        },
        "3f0a608cb86f484597152e37223b7352": {
          "model_module": "@jupyter-widgets/controls",
          "model_name": "HBoxModel",
          "state": {
            "_view_name": "HBoxView",
            "_dom_classes": [],
            "_model_name": "HBoxModel",
            "_view_module": "@jupyter-widgets/controls",
            "_model_module_version": "1.5.0",
            "_view_count": null,
            "_view_module_version": "1.5.0",
            "box_style": "",
            "layout": "IPY_MODEL_27825c53e9034792899d7f54a70d3916",
            "_model_module": "@jupyter-widgets/controls",
            "children": [
              "IPY_MODEL_dcd67b43595647bbad5e2fbe0a890916",
              "IPY_MODEL_626f59e07a804c2aad464573fda1e7d7"
            ]
          }
        },
        "27825c53e9034792899d7f54a70d3916": {
          "model_module": "@jupyter-widgets/base",
          "model_name": "LayoutModel",
          "state": {
            "_view_name": "LayoutView",
            "grid_template_rows": null,
            "right": null,
            "justify_content": null,
            "_view_module": "@jupyter-widgets/base",
            "overflow": null,
            "_model_module_version": "1.2.0",
            "_view_count": null,
            "flex_flow": null,
            "width": null,
            "min_width": null,
            "border": null,
            "align_items": null,
            "bottom": null,
            "_model_module": "@jupyter-widgets/base",
            "top": null,
            "grid_column": null,
            "overflow_y": null,
            "overflow_x": null,
            "grid_auto_flow": null,
            "grid_area": null,
            "grid_template_columns": null,
            "flex": null,
            "_model_name": "LayoutModel",
            "justify_items": null,
            "grid_row": null,
            "max_height": null,
            "align_content": null,
            "visibility": null,
            "align_self": null,
            "height": null,
            "min_height": null,
            "padding": null,
            "grid_auto_rows": null,
            "grid_gap": null,
            "max_width": null,
            "order": null,
            "_view_module_version": "1.2.0",
            "grid_template_areas": null,
            "object_position": null,
            "object_fit": null,
            "grid_auto_columns": null,
            "margin": null,
            "display": null,
            "left": null
          }
        },
        "dcd67b43595647bbad5e2fbe0a890916": {
          "model_module": "@jupyter-widgets/controls",
          "model_name": "IntProgressModel",
          "state": {
            "_view_name": "ProgressView",
            "style": "IPY_MODEL_96fac11c19844259b542b2f42a48ae4c",
            "_dom_classes": [],
            "description": "Iteration",
            "_model_name": "IntProgressModel",
            "bar_style": "success",
            "max": 71,
            "_view_module": "@jupyter-widgets/controls",
            "_model_module_version": "1.5.0",
            "value": 71,
            "_view_count": null,
            "_view_module_version": "1.5.0",
            "orientation": "horizontal",
            "min": 0,
            "description_tooltip": null,
            "_model_module": "@jupyter-widgets/controls",
            "layout": "IPY_MODEL_7270210a266f452eb22894c8592d7ec7"
          }
        },
        "626f59e07a804c2aad464573fda1e7d7": {
          "model_module": "@jupyter-widgets/controls",
          "model_name": "HTMLModel",
          "state": {
            "_view_name": "HTMLView",
            "style": "IPY_MODEL_e515b963eb3849d7a0a43eaa596b1cc3",
            "_dom_classes": [],
            "description": "",
            "_model_name": "HTMLModel",
            "placeholder": "​",
            "_view_module": "@jupyter-widgets/controls",
            "_model_module_version": "1.5.0",
            "value": "100% 71/71 [00:24&lt;00:00,  3.02it/s]",
            "_view_count": null,
            "_view_module_version": "1.5.0",
            "description_tooltip": null,
            "_model_module": "@jupyter-widgets/controls",
            "layout": "IPY_MODEL_baa5212b8d0247f684698e9e1853fb27"
          }
        },
        "96fac11c19844259b542b2f42a48ae4c": {
          "model_module": "@jupyter-widgets/controls",
          "model_name": "ProgressStyleModel",
          "state": {
            "_view_name": "StyleView",
            "_model_name": "ProgressStyleModel",
            "description_width": "initial",
            "_view_module": "@jupyter-widgets/base",
            "_model_module_version": "1.5.0",
            "_view_count": null,
            "_view_module_version": "1.2.0",
            "bar_color": null,
            "_model_module": "@jupyter-widgets/controls"
          }
        },
        "7270210a266f452eb22894c8592d7ec7": {
          "model_module": "@jupyter-widgets/base",
          "model_name": "LayoutModel",
          "state": {
            "_view_name": "LayoutView",
            "grid_template_rows": null,
            "right": null,
            "justify_content": null,
            "_view_module": "@jupyter-widgets/base",
            "overflow": null,
            "_model_module_version": "1.2.0",
            "_view_count": null,
            "flex_flow": null,
            "width": null,
            "min_width": null,
            "border": null,
            "align_items": null,
            "bottom": null,
            "_model_module": "@jupyter-widgets/base",
            "top": null,
            "grid_column": null,
            "overflow_y": null,
            "overflow_x": null,
            "grid_auto_flow": null,
            "grid_area": null,
            "grid_template_columns": null,
            "flex": null,
            "_model_name": "LayoutModel",
            "justify_items": null,
            "grid_row": null,
            "max_height": null,
            "align_content": null,
            "visibility": null,
            "align_self": null,
            "height": null,
            "min_height": null,
            "padding": null,
            "grid_auto_rows": null,
            "grid_gap": null,
            "max_width": null,
            "order": null,
            "_view_module_version": "1.2.0",
            "grid_template_areas": null,
            "object_position": null,
            "object_fit": null,
            "grid_auto_columns": null,
            "margin": null,
            "display": null,
            "left": null
          }
        },
        "e515b963eb3849d7a0a43eaa596b1cc3": {
          "model_module": "@jupyter-widgets/controls",
          "model_name": "DescriptionStyleModel",
          "state": {
            "_view_name": "StyleView",
            "_model_name": "DescriptionStyleModel",
            "description_width": "",
            "_view_module": "@jupyter-widgets/base",
            "_model_module_version": "1.5.0",
            "_view_count": null,
            "_view_module_version": "1.2.0",
            "_model_module": "@jupyter-widgets/controls"
          }
        },
        "baa5212b8d0247f684698e9e1853fb27": {
          "model_module": "@jupyter-widgets/base",
          "model_name": "LayoutModel",
          "state": {
            "_view_name": "LayoutView",
            "grid_template_rows": null,
            "right": null,
            "justify_content": null,
            "_view_module": "@jupyter-widgets/base",
            "overflow": null,
            "_model_module_version": "1.2.0",
            "_view_count": null,
            "flex_flow": null,
            "width": null,
            "min_width": null,
            "border": null,
            "align_items": null,
            "bottom": null,
            "_model_module": "@jupyter-widgets/base",
            "top": null,
            "grid_column": null,
            "overflow_y": null,
            "overflow_x": null,
            "grid_auto_flow": null,
            "grid_area": null,
            "grid_template_columns": null,
            "flex": null,
            "_model_name": "LayoutModel",
            "justify_items": null,
            "grid_row": null,
            "max_height": null,
            "align_content": null,
            "visibility": null,
            "align_self": null,
            "height": null,
            "min_height": null,
            "padding": null,
            "grid_auto_rows": null,
            "grid_gap": null,
            "max_width": null,
            "order": null,
            "_view_module_version": "1.2.0",
            "grid_template_areas": null,
            "object_position": null,
            "object_fit": null,
            "grid_auto_columns": null,
            "margin": null,
            "display": null,
            "left": null
          }
        },
        "e24b9ac06f29408c9bdbabc42abf36df": {
          "model_module": "@jupyter-widgets/controls",
          "model_name": "HBoxModel",
          "state": {
            "_view_name": "HBoxView",
            "_dom_classes": [],
            "_model_name": "HBoxModel",
            "_view_module": "@jupyter-widgets/controls",
            "_model_module_version": "1.5.0",
            "_view_count": null,
            "_view_module_version": "1.5.0",
            "box_style": "",
            "layout": "IPY_MODEL_7c303b930fa647fea8c8f41c37ca6fc7",
            "_model_module": "@jupyter-widgets/controls",
            "children": [
              "IPY_MODEL_fd43974df5ad48b9be4b1c0663cedbd4",
              "IPY_MODEL_d2bfa11fe3f94813818030d0c44bb834"
            ]
          }
        },
        "7c303b930fa647fea8c8f41c37ca6fc7": {
          "model_module": "@jupyter-widgets/base",
          "model_name": "LayoutModel",
          "state": {
            "_view_name": "LayoutView",
            "grid_template_rows": null,
            "right": null,
            "justify_content": null,
            "_view_module": "@jupyter-widgets/base",
            "overflow": null,
            "_model_module_version": "1.2.0",
            "_view_count": null,
            "flex_flow": null,
            "width": null,
            "min_width": null,
            "border": null,
            "align_items": null,
            "bottom": null,
            "_model_module": "@jupyter-widgets/base",
            "top": null,
            "grid_column": null,
            "overflow_y": null,
            "overflow_x": null,
            "grid_auto_flow": null,
            "grid_area": null,
            "grid_template_columns": null,
            "flex": null,
            "_model_name": "LayoutModel",
            "justify_items": null,
            "grid_row": null,
            "max_height": null,
            "align_content": null,
            "visibility": null,
            "align_self": null,
            "height": null,
            "min_height": null,
            "padding": null,
            "grid_auto_rows": null,
            "grid_gap": null,
            "max_width": null,
            "order": null,
            "_view_module_version": "1.2.0",
            "grid_template_areas": null,
            "object_position": null,
            "object_fit": null,
            "grid_auto_columns": null,
            "margin": null,
            "display": null,
            "left": null
          }
        },
        "fd43974df5ad48b9be4b1c0663cedbd4": {
          "model_module": "@jupyter-widgets/controls",
          "model_name": "IntProgressModel",
          "state": {
            "_view_name": "ProgressView",
            "style": "IPY_MODEL_b8a41e28ac724025a401ab90ba3ab10b",
            "_dom_classes": [],
            "description": "Iteration",
            "_model_name": "IntProgressModel",
            "bar_style": "success",
            "max": 71,
            "_view_module": "@jupyter-widgets/controls",
            "_model_module_version": "1.5.0",
            "value": 71,
            "_view_count": null,
            "_view_module_version": "1.5.0",
            "orientation": "horizontal",
            "min": 0,
            "description_tooltip": null,
            "_model_module": "@jupyter-widgets/controls",
            "layout": "IPY_MODEL_2b9cc71c6cb54c84ac4aba57ce8e24c9"
          }
        },
        "d2bfa11fe3f94813818030d0c44bb834": {
          "model_module": "@jupyter-widgets/controls",
          "model_name": "HTMLModel",
          "state": {
            "_view_name": "HTMLView",
            "style": "IPY_MODEL_29efad99486543179e8e5a49e7093cbd",
            "_dom_classes": [],
            "description": "",
            "_model_name": "HTMLModel",
            "placeholder": "​",
            "_view_module": "@jupyter-widgets/controls",
            "_model_module_version": "1.5.0",
            "value": "100% 71/71 [00:24&lt;00:00,  3.03it/s]",
            "_view_count": null,
            "_view_module_version": "1.5.0",
            "description_tooltip": null,
            "_model_module": "@jupyter-widgets/controls",
            "layout": "IPY_MODEL_5bbae505e805452fbffd34b37bf95acd"
          }
        },
        "b8a41e28ac724025a401ab90ba3ab10b": {
          "model_module": "@jupyter-widgets/controls",
          "model_name": "ProgressStyleModel",
          "state": {
            "_view_name": "StyleView",
            "_model_name": "ProgressStyleModel",
            "description_width": "initial",
            "_view_module": "@jupyter-widgets/base",
            "_model_module_version": "1.5.0",
            "_view_count": null,
            "_view_module_version": "1.2.0",
            "bar_color": null,
            "_model_module": "@jupyter-widgets/controls"
          }
        },
        "2b9cc71c6cb54c84ac4aba57ce8e24c9": {
          "model_module": "@jupyter-widgets/base",
          "model_name": "LayoutModel",
          "state": {
            "_view_name": "LayoutView",
            "grid_template_rows": null,
            "right": null,
            "justify_content": null,
            "_view_module": "@jupyter-widgets/base",
            "overflow": null,
            "_model_module_version": "1.2.0",
            "_view_count": null,
            "flex_flow": null,
            "width": null,
            "min_width": null,
            "border": null,
            "align_items": null,
            "bottom": null,
            "_model_module": "@jupyter-widgets/base",
            "top": null,
            "grid_column": null,
            "overflow_y": null,
            "overflow_x": null,
            "grid_auto_flow": null,
            "grid_area": null,
            "grid_template_columns": null,
            "flex": null,
            "_model_name": "LayoutModel",
            "justify_items": null,
            "grid_row": null,
            "max_height": null,
            "align_content": null,
            "visibility": null,
            "align_self": null,
            "height": null,
            "min_height": null,
            "padding": null,
            "grid_auto_rows": null,
            "grid_gap": null,
            "max_width": null,
            "order": null,
            "_view_module_version": "1.2.0",
            "grid_template_areas": null,
            "object_position": null,
            "object_fit": null,
            "grid_auto_columns": null,
            "margin": null,
            "display": null,
            "left": null
          }
        },
        "29efad99486543179e8e5a49e7093cbd": {
          "model_module": "@jupyter-widgets/controls",
          "model_name": "DescriptionStyleModel",
          "state": {
            "_view_name": "StyleView",
            "_model_name": "DescriptionStyleModel",
            "description_width": "",
            "_view_module": "@jupyter-widgets/base",
            "_model_module_version": "1.5.0",
            "_view_count": null,
            "_view_module_version": "1.2.0",
            "_model_module": "@jupyter-widgets/controls"
          }
        },
        "5bbae505e805452fbffd34b37bf95acd": {
          "model_module": "@jupyter-widgets/base",
          "model_name": "LayoutModel",
          "state": {
            "_view_name": "LayoutView",
            "grid_template_rows": null,
            "right": null,
            "justify_content": null,
            "_view_module": "@jupyter-widgets/base",
            "overflow": null,
            "_model_module_version": "1.2.0",
            "_view_count": null,
            "flex_flow": null,
            "width": null,
            "min_width": null,
            "border": null,
            "align_items": null,
            "bottom": null,
            "_model_module": "@jupyter-widgets/base",
            "top": null,
            "grid_column": null,
            "overflow_y": null,
            "overflow_x": null,
            "grid_auto_flow": null,
            "grid_area": null,
            "grid_template_columns": null,
            "flex": null,
            "_model_name": "LayoutModel",
            "justify_items": null,
            "grid_row": null,
            "max_height": null,
            "align_content": null,
            "visibility": null,
            "align_self": null,
            "height": null,
            "min_height": null,
            "padding": null,
            "grid_auto_rows": null,
            "grid_gap": null,
            "max_width": null,
            "order": null,
            "_view_module_version": "1.2.0",
            "grid_template_areas": null,
            "object_position": null,
            "object_fit": null,
            "grid_auto_columns": null,
            "margin": null,
            "display": null,
            "left": null
          }
        }
      }
    }
  },
  "cells": [
    {
      "cell_type": "markdown",
      "metadata": {
        "id": "view-in-github",
        "colab_type": "text"
      },
      "source": [
        "<a href=\"https://colab.research.google.com/github/Rathore25/SapiensAI/blob/main/%20Training_SapiensQA.ipynb%20\" target=\"_parent\"><img src=\"https://colab.research.google.com/assets/colab-badge.svg\" alt=\"Open In Colab\"/></a>"
      ]
    },
    {
      "cell_type": "code",
      "metadata": {
        "id": "HkMZmmVA4bql"
      },
      "source": [
        "#!pip install cdqa"
      ],
      "execution_count": null,
      "outputs": []
    },
    {
      "cell_type": "code",
      "metadata": {
        "id": "lqXsBQ0R4QwG",
        "colab": {
          "base_uri": "https://localhost:8080/"
        },
        "outputId": "5140a7c2-e354-4bfb-aeee-7720e915ab96"
      },
      "source": [
        "import os\n",
        "import torch\n",
        "import joblib\n",
        "#from cdqa.reader import BertProcessor, BertQA\n",
        "#from cdqa.utils.download import download_squad, download_model, download_bnpp_data\n",
        "from cdqa.pipeline import QAPipeline\n",
        "import json\n",
        "import pandas as pd\n",
        "import requests\n",
        "import wget"
      ],
      "execution_count": 1,
      "outputs": [
        {
          "output_type": "stream",
          "text": [
            "/usr/local/lib/python3.7/dist-packages/tqdm/autonotebook/__init__.py:18: TqdmExperimentalWarning: Using `tqdm.autonotebook.tqdm` in notebook mode. Use `tqdm.tqdm` instead to force console mode (e.g. in jupyter console)\n",
            "  \" (e.g. in jupyter console)\", TqdmExperimentalWarning)\n"
          ],
          "name": "stderr"
        }
      ]
    },
    {
      "cell_type": "code",
      "metadata": {
        "id": "9q5Rzze55g1d"
      },
      "source": [
        "# directory = './data'\n",
        "\n",
        "# # Downloading data\n",
        "# download_squad(dir=directory)\n",
        "# download_bnpp_data(dir=directory)\n",
        "# # Downloading pre-trained BERT fine-tuned on SQuAD 1.1\n",
        "# download_model('bert-squad_1.1', dir=directory)\n",
        "# # Downloading pre-trained DistilBERT fine-tuned on SQuAD 1.1\n",
        "# download_model('distilbert-squad_1.1', dir=directory)"
      ],
      "execution_count": 2,
      "outputs": []
    },
    {
      "cell_type": "code",
      "metadata": {
        "id": "jkAsr0NG06l2"
      },
      "source": [
        "response = requests.get('https://docs.google.com/uc?export=download&id=1oSUFKZMao_gQxGDpCZuRXV6EULjFjmoZ')\n",
        "sapiens_original = response.json()\n",
        "\n",
        "response = requests.get('https://docs.google.com/uc?export=download&id=1b5xy1Z4EuFVXkMOQIupl27a1kRNPguVr')\n",
        "sapiens_annotated = response.json()\n",
        "with open('./sapiens_annotated.json', 'w') as file:\n",
        "  json.dump(sapiens_annotated, file)"
      ],
      "execution_count": 3,
      "outputs": []
    },
    {
      "cell_type": "code",
      "metadata": {
        "id": "l7W6y7IDRpvS"
      },
      "source": [
        "dictionary_df = []\n",
        "\n",
        "for item in sapiens_original['data']:\n",
        "  title = item['title']\n",
        "  paragraphs = []\n",
        "\n",
        "  for paragraph in item['paragraphs']:\n",
        "    paragraphs.append(paragraph['context'])\n",
        "  \n",
        "  dictionary_df.append({'title':title, 'paragraphs':paragraphs})"
      ],
      "execution_count": 4,
      "outputs": []
    },
    {
      "cell_type": "code",
      "metadata": {
        "id": "Smmq6owfS1ip"
      },
      "source": [
        "df = pd.DataFrame(dictionary_df)"
      ],
      "execution_count": 5,
      "outputs": []
    },
    {
      "cell_type": "code",
      "metadata": {
        "colab": {
          "base_uri": "https://localhost:8080/"
        },
        "id": "4pGGmyLD2jX9",
        "outputId": "ed79213b-411d-4722-e81e-5e30fb9dc092"
      },
      "source": [
        "print(df)"
      ],
      "execution_count": 6,
      "outputs": [
        {
          "output_type": "stream",
          "text": [
            "                                                title                                         paragraphs\n",
            "0                           Timeline of History Years  [13.5 billion years from present, matter and e...\n",
            "1                        An Animal of No Significance  [ABOUT 13.5 BILLION YEARS AGO, MATTER, energy,...\n",
            "2   An Animal of No Significance - The Cost of Thi...  [Despite their many differences, all human spe...\n",
            "3      An Animal of No Significance - A Race of Cooks  [A significant step on the way to the top was ...\n",
            "4                               The Tree of Knowledge  [Despite the benefits of fire, 150,000 years a...\n",
            "..                                                ...                                                ...\n",
            "85          The End of Homo Sapiens - Of Mice and Men  [Biological engineering is deliberate human in...\n",
            "86  The End of Homo Sapiens - The Return of the Ne...  [But geneticists do not only want to transform...\n",
            "87              The End of Homo Sapiens - Bionic Life  [There is another new technology which could c...\n",
            "88             The End of Homo Sapiens - Another Life  [The third way to change the laws of life is t...\n",
            "89          The End of Homo Sapiens - The Singularity  [Presently, only a tiny fraction of these new ...\n",
            "\n",
            "[90 rows x 2 columns]\n"
          ],
          "name": "stdout"
        }
      ]
    },
    {
      "cell_type": "code",
      "metadata": {
        "colab": {
          "base_uri": "https://localhost:8080/",
          "height": 36
        },
        "id": "Loft8Q1D3U5g",
        "outputId": "7fd642bf-35fe-4d08-eae1-93594a806096"
      },
      "source": [
        "#wget.download(url='https://github.com/cdqa-suite/cdQA/releases/download/bert_qa/bert_qa.joblib', out='./')\n",
        "wget.download(url='https://github.com/cdqa-suite/cdQA/releases/download/distilbert_qa/distilbert_qa.joblib', out='./')"
      ],
      "execution_count": 16,
      "outputs": [
        {
          "output_type": "execute_result",
          "data": {
            "application/vnd.google.colaboratory.intrinsic+json": {
              "type": "string"
            },
            "text/plain": [
              "'.//distilbert_qa.joblib'"
            ]
          },
          "metadata": {
            "tags": []
          },
          "execution_count": 16
        }
      ]
    },
    {
      "cell_type": "code",
      "metadata": {
        "colab": {
          "base_uri": "https://localhost:8080/"
        },
        "id": "M8KMPAt1TcDY",
        "outputId": "e6129c3f-dd31-4ebf-d146-ee44722984df"
      },
      "source": [
        "cdqa_pipeline = QAPipeline(reader='./distilbert_qa.joblib') # use 'distilbert_qa.joblib' for DistilBERT instead of BERT\n",
        "cdqa_pipeline.fit_retriever(df=df)"
      ],
      "execution_count": 17,
      "outputs": [
        {
          "output_type": "execute_result",
          "data": {
            "text/plain": [
              "QAPipeline(reader=BertQA(adam_epsilon=1e-08,\n",
              "                         bert_model='distilbert-base-uncased',\n",
              "                         do_lower_case=True, fp16=False,\n",
              "                         gradient_accumulation_steps=1, learning_rate=5e-05,\n",
              "                         local_rank=-1, loss_scale=0, max_answer_length=30,\n",
              "                         n_best_size=20, no_cuda=False,\n",
              "                         null_score_diff_threshold=0.0, num_train_epochs=3.0,\n",
              "                         output_dir=None, predict_batch_size=8, seed=42,\n",
              "                         server_ip='', ser...size=8,\n",
              "                         verbose_logging=False, version_2_with_negative=False,\n",
              "                         warmup_proportion=0.1, warmup_steps=0),\n",
              "           retrieve_by_doc=False,\n",
              "           retriever=BM25Retriever(b=0.75, floor=None, k1=2.0, lowercase=True,\n",
              "                                   max_df=0.85, min_df=2, ngram_range=(1, 2),\n",
              "                                   preprocessor=None, stop_words='english',\n",
              "                                   token_pattern='(?u)\\\\b\\\\w\\\\w+\\\\b',\n",
              "                                   tokenizer=None, top_n=20, verbose=False,\n",
              "                                   vocabulary=None))"
            ]
          },
          "metadata": {
            "tags": []
          },
          "execution_count": 17
        }
      ]
    },
    {
      "cell_type": "code",
      "metadata": {
        "colab": {
          "base_uri": "https://localhost:8080/",
          "height": 643,
          "referenced_widgets": [
            "f0266e4d6f964f1e8e9a328956873315",
            "5c8faa4f3b134231920abc10105daf21",
            "7ae4954a90c444e59b17305241cfa8ec",
            "c97a06230ba34f2991ce8115cf3a8376",
            "698f2e98d77b487688e51ee01d5dda1c",
            "417a285c2f424ce686a05d0759bf1643",
            "aa12173e61824755ad31b792844ca81e",
            "14cdbb4d77b54103a574cad6212b6df9",
            "abb00af584b54fbcb7acb0497a281709",
            "9322ebeff7ce450d9038b3734b5ac96e",
            "0e63630889a945f5a55a9026ac9772e8",
            "5aa87743c2944da69db41772cd18a4ea",
            "daaa188bb0b34a27ab8448368641d7aa",
            "731a08f0d84d43498878628f8c8c913e",
            "ca025bdb0ea641389c216592ab9a6336",
            "c650ca601e73407191c3448e7a705c0c",
            "3f0a608cb86f484597152e37223b7352",
            "27825c53e9034792899d7f54a70d3916",
            "dcd67b43595647bbad5e2fbe0a890916",
            "626f59e07a804c2aad464573fda1e7d7",
            "96fac11c19844259b542b2f42a48ae4c",
            "7270210a266f452eb22894c8592d7ec7",
            "e515b963eb3849d7a0a43eaa596b1cc3",
            "baa5212b8d0247f684698e9e1853fb27",
            "e24b9ac06f29408c9bdbabc42abf36df",
            "7c303b930fa647fea8c8f41c37ca6fc7",
            "fd43974df5ad48b9be4b1c0663cedbd4",
            "d2bfa11fe3f94813818030d0c44bb834",
            "b8a41e28ac724025a401ab90ba3ab10b",
            "2b9cc71c6cb54c84ac4aba57ce8e24c9",
            "29efad99486543179e8e5a49e7093cbd",
            "5bbae505e805452fbffd34b37bf95acd"
          ]
        },
        "id": "cFYgZ3QU57Ui",
        "outputId": "e9338ca6-6f98-413e-f781-009dad708fea"
      },
      "source": [
        "cdqa_pipeline.fit_reader('./sapiens_annotated.json')"
      ],
      "execution_count": 18,
      "outputs": [
        {
          "output_type": "stream",
          "text": [
            "Could not find answer: '' vs. '70,000 years from present'\n",
            "Could not find answer: '' vs. '200 years ago'\n",
            "Could not find answer: '' vs. 'Once the fire died down, Stone Age entrepreneurs could walk through the smoking remains and harvest charcoaled animals, nuts and tubers.'\n",
            "Could not find answer: '' vs. 'The opposing view, called the ‘Replacement Theory’ tells a very different story – one of incompatibility, revulsion, and perhaps even genocide. According to this theory, Sapiens and other humans had different anatomies, and most likely different mating habits and even body odours. They would have had little sexual interest in one another. According to this view, Sapiens replaced all the previous human populations without merging with them. If that is the case, the lineages of all contemporary humans can be traced back, exclusively, to East Africa, 70,000 years ago. We are all ‘pure Sapiens’.'\n",
            "Could not find answer: '' vs. 'There is some evidence that the size of the average Sapiens brain has actually decreased since the age of foraging. Survival in that era required superb mental abilities from everyone. When agriculture and industry came along people could increasingly rely on the skills of others for survival, and new ‘niches for imbeciles’ were opened up.'\n",
            "Could not find answer: '' vs. 'There is some evidence that the size of the average Sapiens brain has actually decreased since the age of foraging. Survival in that era required superb mental abilities from everyone. When agriculture and industry came along people could increasingly rely on the skills of others for survival, and new ‘niches for imbeciles’ were opened up.'\n",
            "Could not find answer: '' vs. 'The current political constellation in Middle East region is a balance of power between many independent political entities with more or less stable borders. The last time the Middle East experienced such a situation was in the eighth century BC – almost 3,000 years ago!'\n"
          ],
          "name": "stderr"
        },
        {
          "output_type": "display_data",
          "data": {
            "application/vnd.jupyter.widget-view+json": {
              "model_id": "f0266e4d6f964f1e8e9a328956873315",
              "version_minor": 0,
              "version_major": 2
            },
            "text/plain": [
              "HBox(children=(IntProgress(value=0, description='Epoch', max=3, style=ProgressStyle(description_width='initial…"
            ]
          },
          "metadata": {
            "tags": []
          }
        },
        {
          "output_type": "display_data",
          "data": {
            "application/vnd.jupyter.widget-view+json": {
              "model_id": "abb00af584b54fbcb7acb0497a281709",
              "version_minor": 0,
              "version_major": 2
            },
            "text/plain": [
              "HBox(children=(IntProgress(value=0, description='Iteration', max=71, style=ProgressStyle(description_width='in…"
            ]
          },
          "metadata": {
            "tags": []
          }
        },
        {
          "output_type": "display_data",
          "data": {
            "application/vnd.jupyter.widget-view+json": {
              "model_id": "3f0a608cb86f484597152e37223b7352",
              "version_minor": 0,
              "version_major": 2
            },
            "text/plain": [
              "HBox(children=(IntProgress(value=0, description='Iteration', max=71, style=ProgressStyle(description_width='in…"
            ]
          },
          "metadata": {
            "tags": []
          }
        },
        {
          "output_type": "display_data",
          "data": {
            "application/vnd.jupyter.widget-view+json": {
              "model_id": "e24b9ac06f29408c9bdbabc42abf36df",
              "version_minor": 0,
              "version_major": 2
            },
            "text/plain": [
              "HBox(children=(IntProgress(value=0, description='Iteration', max=71, style=ProgressStyle(description_width='in…"
            ]
          },
          "metadata": {
            "tags": []
          }
        },
        {
          "output_type": "stream",
          "text": [
            "\n"
          ],
          "name": "stdout"
        },
        {
          "output_type": "execute_result",
          "data": {
            "text/plain": [
              "QAPipeline(reader=BertQA(adam_epsilon=1e-08,\n",
              "                         bert_model='distilbert-base-uncased',\n",
              "                         do_lower_case=True, fp16=False,\n",
              "                         gradient_accumulation_steps=1, learning_rate=5e-05,\n",
              "                         local_rank=-1, loss_scale=0, max_answer_length=30,\n",
              "                         n_best_size=20, no_cuda=False,\n",
              "                         null_score_diff_threshold=0.0, num_train_epochs=3.0,\n",
              "                         output_dir=None, predict_batch_size=8, seed=42,\n",
              "                         server_ip='', ser...size=8,\n",
              "                         verbose_logging=False, version_2_with_negative=False,\n",
              "                         warmup_proportion=0.1, warmup_steps=0),\n",
              "           retrieve_by_doc=False,\n",
              "           retriever=BM25Retriever(b=0.75, floor=None, k1=2.0, lowercase=True,\n",
              "                                   max_df=0.85, min_df=2, ngram_range=(1, 2),\n",
              "                                   preprocessor=None, stop_words='english',\n",
              "                                   token_pattern='(?u)\\\\b\\\\w\\\\w+\\\\b',\n",
              "                                   tokenizer=None, top_n=20, verbose=False,\n",
              "                                   vocabulary=None))"
            ]
          },
          "metadata": {
            "tags": []
          },
          "execution_count": 18
        }
      ]
    },
    {
      "cell_type": "code",
      "metadata": {
        "id": "GxeX6A_2AotU"
      },
      "source": [
        "cdqa_pipeline.dump_reader('./sapiens_distilbert.joblib')"
      ],
      "execution_count": 19,
      "outputs": []
    },
    {
      "cell_type": "code",
      "metadata": {
        "colab": {
          "base_uri": "https://localhost:8080/"
        },
        "id": "XB6qGOV2_tV2",
        "outputId": "f392010c-e3b1-45ed-d9dd-01192f3614c0"
      },
      "source": [
        "# Answered by Bert and Distilbert\n",
        "cdqa_pipeline.predict(query='Why do empires not work?')"
      ],
      "execution_count": 20,
      "outputs": [
        {
          "output_type": "execute_result",
          "data": {
            "text/plain": [
              "('In the long run, it is not possible to rule effectively over a large number of conquered peoples.',\n",
              " 'Imperial Visions - Evil Empires?',\n",
              " '1.\\tEmpires do not work. In the long run, it is not possible to rule effectively over a large number of conquered peoples.',\n",
              " 9.932559288062196)"
            ]
          },
          "metadata": {
            "tags": []
          },
          "execution_count": 20
        }
      ]
    },
    {
      "cell_type": "code",
      "metadata": {
        "colab": {
          "base_uri": "https://localhost:8080/"
        },
        "id": "PwXly8SSWrS0",
        "outputId": "f081dc5f-6b64-4cd4-df1f-df436e08f73f"
      },
      "source": [
        "# Answered by Bert\n",
        "cdqa_pipeline.predict(query=\"When did sapiens come to Australia?\")"
      ],
      "execution_count": 12,
      "outputs": [
        {
          "output_type": "execute_result",
          "data": {
            "text/plain": [
              "('45,000 years from present, Sapiens settle Australia',\n",
              " 'Timeline of History Years',\n",
              " '45,000 years from present, Sapiens settle Australia. Extinction of Australian megafauna.',\n",
              " 11.197714515345469)"
            ]
          },
          "metadata": {
            "tags": []
          },
          "execution_count": 12
        }
      ]
    },
    {
      "cell_type": "code",
      "metadata": {
        "colab": {
          "base_uri": "https://localhost:8080/"
        },
        "id": "Sy147mSbMuc-",
        "outputId": "9a8388c5-ad09-40e5-82b9-42e1539c3394"
      },
      "source": [
        "# Answered by Distilbert\n",
        "cdqa_pipeline.predict(query=\"When did sapiens come to Australia?\")"
      ],
      "execution_count": 21,
      "outputs": [
        {
          "output_type": "execute_result",
          "data": {
            "text/plain": [
              "('45,000 years from present',\n",
              " 'Timeline of History Years',\n",
              " '45,000 years from present, Sapiens settle Australia. Extinction of Australian megafauna.',\n",
              " 10.580057807581795)"
            ]
          },
          "metadata": {
            "tags": []
          },
          "execution_count": 21
        }
      ]
    },
    {
      "cell_type": "code",
      "metadata": {
        "colab": {
          "base_uri": "https://localhost:8080/"
        },
        "id": "bdrA1G4HKpD_",
        "outputId": "7495ed14-c38a-431c-fae2-efff23ec1c1f"
      },
      "source": [
        "# Answered by Bert\n",
        "cdqa_pipeline.predict(query='What can you tell me about Sapiens?')"
      ],
      "execution_count": 14,
      "outputs": [
        {
          "output_type": "execute_result",
          "data": {
            "text/plain": [
              "('It’s a secret that only our tribe and the moon spirits are allowed to know.',\n",
              " 'The Marriage of Science and Empire - The Mentality of Conquest',\n",
              " '‘Oh, I cannot tell you. It’s a secret that only our tribe and the moon spirits are allowed to know.’',\n",
              " 8.112579348755647)"
            ]
          },
          "metadata": {
            "tags": []
          },
          "execution_count": 14
        }
      ]
    },
    {
      "cell_type": "code",
      "metadata": {
        "colab": {
          "base_uri": "https://localhost:8080/"
        },
        "id": "GF7Gxgu2Mxqw",
        "outputId": "ba95171c-37c0-45b6-fd02-9b95e15d3e6b"
      },
      "source": [
        "# Answered by Distilbert\n",
        "cdqa_pipeline.predict(query='What can you tell me about Sapiens?')"
      ],
      "execution_count": 22,
      "outputs": [
        {
          "output_type": "execute_result",
          "data": {
            "text/plain": [
              "('Oh, I cannot tell you',\n",
              " 'The Marriage of Science and Empire - The Mentality of Conquest',\n",
              " '‘Oh, I cannot tell you. It’s a secret that only our tribe and the moon spirits are allowed to know.’',\n",
              " 6.579646399689484)"
            ]
          },
          "metadata": {
            "tags": []
          },
          "execution_count": 22
        }
      ]
    }
  ]
}